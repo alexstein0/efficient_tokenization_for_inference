{
 "cells": [
  {
   "cell_type": "markdown",
   "metadata": {},
   "source": [
    "# PUSH things to hub"
   ]
  },
  {
   "cell_type": "code",
   "execution_count": 27,
   "metadata": {},
   "outputs": [],
   "source": [
    "from typing import List\n",
    "from datasets import Dataset, DatasetDict, DatasetInfo\n",
    "from transformers import AutoTokenizer\n",
    "\n",
    "def dataset_push_to_hub(base_path: str, suffix_list: List[str], push_path: str, test_split: float = 0):\n",
    "    for suffix in suffix_list:\n",
    "        path = f\"{base_path}_{suffix}\"\n",
    "        dataset_push_path = f\"{push_path}_{suffix}\"\n",
    "        ds = Dataset.load_from_disk(path)\n",
    "        if test_split > 0 and not isinstance(ds, DatasetDict):\n",
    "            ds = ds.train_test_split(test_size=test_split) # Split the dataset into train (90%) and validation (10%)\n",
    "        ds.push_to_hub(dataset_push_path, private=True)\n",
    "\n",
    "def tokenizer_push_to_hub(base_path: str, suffix_list: List[str], push_path: str):\n",
    "    for suffix in suffix_list:\n",
    "        path = f\"{base_path}-{suffix}\"\n",
    "        tok_push_path = f\"{push_path}-{suffix}\"\n",
    "        tokenizer = AutoTokenizer.from_pretrained(path)\n",
    "        tokenizer.push_to_hub(tok_push_path)\n"
   ]
  },
  {
   "cell_type": "code",
   "execution_count": null,
   "metadata": {},
   "outputs": [],
   "source": [
    "base_path = \"/cmlscratch/astein0/efficient_tokenization_for_inference/datasets/dictionary-llama32-500000samples-tokenized_dict\"\n",
    "push_path = \"tomg-group-umd/EIM-dataset-Llama32-Dict\"\n",
    "token_sizes = [\"10\", \"100\", \"500\", \"1000\"]\n",
    "ds_dict = dataset_push_to_hub(base_path, token_sizes, push_path)"
   ]
  },
  {
   "cell_type": "code",
   "execution_count": 28,
   "metadata": {},
   "outputs": [
    {
     "name": "stderr",
     "output_type": "stream",
     "text": [
      "Creating parquet from Arrow format: 100%|██████████| 30/30 [00:03<00:00,  9.04ba/s]\n",
      "Creating parquet from Arrow format: 100%|██████████| 30/30 [00:03<00:00,  9.62ba/s]\n",
      "Creating parquet from Arrow format: 100%|██████████| 30/30 [00:03<00:00,  9.63ba/s]\n",
      "Creating parquet from Arrow format: 100%|██████████| 30/30 [00:03<00:00,  9.74ba/s]\n",
      "Creating parquet from Arrow format: 100%|██████████| 30/30 [00:03<00:00,  9.71ba/s]\n",
      "Creating parquet from Arrow format: 100%|██████████| 30/30 [00:03<00:00,  9.54ba/s]\n",
      "Creating parquet from Arrow format: 100%|██████████| 30/30 [00:03<00:00,  9.72ba/s]\n",
      "Creating parquet from Arrow format: 100%|██████████| 30/30 [00:03<00:00,  9.76ba/s]\n",
      "Creating parquet from Arrow format: 100%|██████████| 30/30 [00:03<00:00,  9.69ba/s]\n",
      "Uploading the dataset shards: 100%|██████████| 9/9 [00:46<00:00,  5.18s/it]\n",
      "Creating parquet from Arrow format: 100%|██████████| 30/30 [00:03<00:00,  9.73ba/s]\n",
      "Uploading the dataset shards: 100%|██████████| 1/1 [00:05<00:00,  5.35s/it]\n"
     ]
    }
   ],
   "source": [
    "base_path = \"/cmlscratch/astein0/efficient_tokenization_for_inference/datasets/magpie-default-tokenized\"\n",
    "push_path = \"tomg-group-umd/EIM-dataset-Llama32-magpie-default\"\n",
    "token_sizes = [\"0\"]\n",
    "# token_sizes = [\"0\", \"10\", \"100\", \"500\", \"1000\"]\n",
    "ds_dict = dataset_push_to_hub(base_path, token_sizes, push_path, test_split=.1)"
   ]
  },
  {
   "cell_type": "code",
   "execution_count": 18,
   "metadata": {},
   "outputs": [
    {
     "data": {
      "text/plain": [
       "Dataset({\n",
       "    features: ['input_ids', 'attention_mask', 'loss_mask', 'labels', 'task_type', 'num_tokens'],\n",
       "    num_rows: 270000\n",
       "})"
      ]
     },
     "execution_count": 18,
     "metadata": {},
     "output_type": "execute_result"
    }
   ],
   "source": [
    "ds_dict[\"0\"][\"train\"]"
   ]
  },
  {
   "cell_type": "code",
   "execution_count": null,
   "metadata": {},
   "outputs": [],
   "source": []
  }
 ],
 "metadata": {
  "kernelspec": {
   "display_name": "eff-tok",
   "language": "python",
   "name": "python3"
  },
  "language_info": {
   "codemirror_mode": {
    "name": "ipython",
    "version": 3
   },
   "file_extension": ".py",
   "mimetype": "text/x-python",
   "name": "python",
   "nbconvert_exporter": "python",
   "pygments_lexer": "ipython3",
   "version": "3.10.4"
  }
 },
 "nbformat": 4,
 "nbformat_minor": 2
}
